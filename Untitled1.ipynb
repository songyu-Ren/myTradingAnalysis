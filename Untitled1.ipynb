{
 "cells": [
  {
   "cell_type": "code",
   "execution_count": 1,
   "id": "a1e35194-7df2-4ced-94f7-b91dcb8087d3",
   "metadata": {},
   "outputs": [],
   "source": [
    "import pandas as pd\n",
    "\n",
    "# Define the file name directly\n",
    "file_name = 'transaction1.csv'\n",
    "\n",
    "# Read the CSV file, ensure the 'Transaction Time (CET)' column is parsed as datetime\n",
    "df = pd.read_csv(file_name, parse_dates=['Transaction Time (CET)'])"
   ]
  },
  {
   "cell_type": "code",
   "execution_count": 2,
   "id": "a65c387b-02a7-4a6f-8917-a67e8e2d1fab",
   "metadata": {},
   "outputs": [
    {
     "name": "stdout",
     "output_type": "stream",
     "text": [
      "Assets with Remaining Stock:\n",
      "ASML: 3.931\n",
      "Coinbase: 2.638\n",
      "NVIDIA: 0.000\n",
      "Tesla: 16.711\n"
     ]
    }
   ],
   "source": [
    "# Calculate total purchased quantities\n",
    "purchases = df.loc[df['Transaction Amount'] < 0, ['Asset Name', 'Trade Quantity']]\n",
    "total_purchases = purchases.groupby('Asset Name')['Trade Quantity'].sum()\n",
    "\n",
    "# Calculate total sold quantities\n",
    "sales = df.loc[df['Transaction Amount'] > 0, ['Asset Name', 'Trade Quantity']]\n",
    "total_sales = sales.groupby('Asset Name')['Trade Quantity'].sum()\n",
    "\n",
    "# Calculate remaining stock for each asset\n",
    "remaining_stock = total_purchases.subtract(total_sales, fill_value=0)\n",
    "\n",
    "# Filter to find assets with remaining stock greater than zero\n",
    "unsold_assets = remaining_stock[remaining_stock > 0]\n",
    "\n",
    "# Display assets with remaining stock with three decimal places\n",
    "print(\"Assets with Remaining Stock:\")\n",
    "for asset, quantity in unsold_assets.items():\n",
    "    print(f\"{asset}: {quantity:.3f}\")\n"
   ]
  },
  {
   "cell_type": "code",
   "execution_count": 3,
   "id": "91932f81-5fc2-45cc-81d3-aba26f53d258",
   "metadata": {},
   "outputs": [
    {
     "name": "stdout",
     "output_type": "stream",
     "text": [
      "New entry added for Tesla:\n",
      "        Transaction Time (CET) Transaction Category Transaction Type Asset Id  \\\n",
      "331 2024-11-10 17:19:36.973241                  NaN              NaN      NaN   \n",
      "\n",
      "    Asset Name Asset Currency Transaction Currency Currency Pair  \\\n",
      "331      Tesla            NaN                  NaN           NaN   \n",
      "\n",
      "     Exchange Rate  Transaction Amount  Trade Amount  Trade Price  \\\n",
      "331            NaN                 NaN           NaN          NaN   \n",
      "\n",
      "     Trade Quantity  Cash Balance Amount  Profit And Loss Amount  \\\n",
      "331             1.1                  NaN                     NaN   \n",
      "\n",
      "    Profit And Loss Currency  \n",
      "331                      NaN  \n"
     ]
    }
   ],
   "source": [
    "# New transaction data for Tesla\n",
    "new_data = {\n",
    "    'Asset Name': ['Tesla'],\n",
    "    'Trade Quantity': [1.1],  # The amount of stock being added\n",
    "    'Transaction Time (CET)': [pd.Timestamp.now()]  # Current timestamp for the transaction\n",
    "    # Add additional columns as necessary, e.g., 'Transaction Amount': [0] if needed\n",
    "}\n",
    "\n",
    "# Create a DataFrame from the new transaction data\n",
    "new_transaction = pd.DataFrame(new_data)\n",
    "\n",
    "# Append the new transaction to the existing DataFrame\n",
    "df = pd.concat([df, new_transaction], ignore_index=True)\n",
    "\n",
    "# Print the updated DataFrame to confirm addition\n",
    "print(\"New entry added for Tesla:\")\n",
    "print(df[df['Asset Name'] == 'Tesla'].tail(1))  # Shows the last few entries for Tesla to confirm the addition"
   ]
  },
  {
   "cell_type": "code",
   "execution_count": 4,
   "id": "f5a0eded-83f5-421f-b206-08824ab12b42",
   "metadata": {},
   "outputs": [
    {
     "name": "stdout",
     "output_type": "stream",
     "text": [
      "Assets with Remaining Stock:\n",
      "ASML: 3.931\n",
      "Coinbase: 2.638\n",
      "NVIDIA: 0.000\n",
      "Tesla: 17.811\n"
     ]
    }
   ],
   "source": [
    "# Filter for purchases and include cases with NaN transaction amounts specifically for 'TSLA'\n",
    "purchases_conditions = (df['Transaction Amount'] < 0) | ((df['Transaction Amount'].isna()) & (df['Asset Name'] == 'Tesla'))\n",
    "purchases = df.loc[purchases_conditions, ['Asset Name', 'Trade Quantity']]\n",
    "total_purchases = purchases.groupby('Asset Name')['Trade Quantity'].sum()\n",
    "\n",
    "# Filter for sales\n",
    "sales = df.loc[df['Transaction Amount'] > 0, ['Asset Name', 'Trade Quantity']]\n",
    "total_sales = sales.groupby('Asset Name')['Trade Quantity'].sum()\n",
    "\n",
    "# Calculate remaining stock for each asset\n",
    "remaining_stock = total_purchases.subtract(total_sales, fill_value=0)\n",
    "\n",
    "# Filter to find assets with remaining stock greater than zero\n",
    "unsold_assets = remaining_stock[remaining_stock > 0]\n",
    "\n",
    "# Display assets with remaining stock with three decimal places\n",
    "print(\"Assets with Remaining Stock:\")\n",
    "for asset, quantity in unsold_assets.items():\n",
    "    print(f\"{asset}: {quantity:.3f}\")"
   ]
  },
  {
   "cell_type": "code",
   "execution_count": 8,
   "id": "e3064dfc-c920-46e7-bc7c-63996970486f",
   "metadata": {},
   "outputs": [
    {
     "name": "stdout",
     "output_type": "stream",
     "text": [
      "Initial cumulative multiplier: 1\n",
      "\n",
      "Applying split for Tesla on 2022-08-25:\n",
      "  Split multiplier: 3\n",
      "  Updated cumulative multiplier: 3\n",
      "  Transactions affected by this split (before adjustment):\n",
      "     Transaction Time (CET)  Trade Quantity\n",
      "26  2021-03-24 17:20:50.723       27.000000\n",
      "64  2021-04-19 16:16:59.034       27.000000\n",
      "67  2021-04-19 19:25:18.449       27.000000\n",
      "73  2021-04-22 20:21:55.982       27.000000\n",
      "116 2021-05-25 16:49:35.724       27.000000\n",
      "118 2021-06-07 15:30:48.202       27.000000\n",
      "127 2021-06-11 16:00:20.723       27.000000\n",
      "156 2021-08-16 19:53:08.555       27.000000\n",
      "246 2022-01-28 21:48:13.060        4.662198\n",
      "248 2022-01-31 16:27:19.938       27.000000\n",
      "249 2022-01-31 16:27:20.151        7.456239\n",
      "250 2022-02-07 16:24:17.857       27.000000\n",
      "251 2022-02-07 16:24:17.876       12.118437\n",
      "266 2022-08-24 16:17:12.663       14.705172\n",
      "  Transactions after adjustment:\n",
      "     Transaction Time (CET)  Trade Quantity\n",
      "26  2021-03-24 17:20:50.723       81.000000\n",
      "64  2021-04-19 16:16:59.034       81.000000\n",
      "67  2021-04-19 19:25:18.449       81.000000\n",
      "73  2021-04-22 20:21:55.982       81.000000\n",
      "116 2021-05-25 16:49:35.724       81.000000\n",
      "118 2021-06-07 15:30:48.202       81.000000\n",
      "127 2021-06-11 16:00:20.723       81.000000\n",
      "156 2021-08-16 19:53:08.555       81.000000\n",
      "246 2022-01-28 21:48:13.060       13.986594\n",
      "248 2022-01-31 16:27:19.938       81.000000\n",
      "249 2022-01-31 16:27:20.151       22.368717\n",
      "250 2022-02-07 16:24:17.857       81.000000\n",
      "251 2022-02-07 16:24:17.876       36.355311\n",
      "266 2022-08-24 16:17:12.663       44.115516\n",
      "\n",
      "Final cumulative multiplier for Tesla: 3\n",
      "\n",
      "Final DataFrame with adjusted quantities:\n"
     ]
    },
    {
     "data": {
      "text/plain": [
       "3"
      ]
     },
     "execution_count": 8,
     "metadata": {},
     "output_type": "execute_result"
    }
   ],
   "source": [
    "# Stock split information for Tesla\n",
    "stock_splits = {\n",
    "    'Tesla': [\n",
    "        {'date': '2022-08-25', 'multiplier': 3}\n",
    "    ]\n",
    "}\n",
    "\n",
    "# Function to apply stock splits and adjust quantities\n",
    "def apply_splits_and_calculate_multiplier(df, asset_name, splits):\n",
    "    # Convert 'Transaction Time (CET)' to datetime format\n",
    "    df['Transaction Time (CET)'] = pd.to_datetime(df['Transaction Time (CET)'])\n",
    "    cumulative_multiplier = 1  # Initialize a cumulative multiplier\n",
    "\n",
    "    print(f\"Initial cumulative multiplier: {cumulative_multiplier}\")\n",
    "    \n",
    "    for split in splits:\n",
    "        # Convert split date to datetime format\n",
    "        split_date = pd.to_datetime(split['date'])\n",
    "        multiplier = split['multiplier']\n",
    "        \n",
    "        # Update the cumulative multiplier by multiplying it with the current split multiplier\n",
    "        cumulative_multiplier *= multiplier\n",
    "        \n",
    "        print(f\"\\nApplying split for {asset_name} on {split_date.date()}:\")\n",
    "        print(f\"  Split multiplier: {multiplier}\")\n",
    "        print(f\"  Updated cumulative multiplier: {cumulative_multiplier}\")\n",
    "        \n",
    "        # Create a mask to filter rows for the specified asset and transactions before the split date\n",
    "        mask = (df['Asset Name'] == asset_name) & (df['Transaction Time (CET)'] < split_date)\n",
    "        \n",
    "        # Check how many rows are affected by this split\n",
    "        affected_rows = df.loc[mask]\n",
    "        print(f\"  Transactions affected by this split (before adjustment):\")\n",
    "        print(affected_rows[['Transaction Time (CET)', 'Trade Quantity']])\n",
    "\n",
    "        # Adjust the 'Trade Quantity' for transactions before the split date\n",
    "        df.loc[mask, 'Trade Quantity'] *= multiplier\n",
    "        \n",
    "        # Display the adjusted quantities\n",
    "        adjusted_rows = df.loc[mask]\n",
    "        print(f\"  Transactions after adjustment:\")\n",
    "        print(adjusted_rows[['Transaction Time (CET)', 'Trade Quantity']])\n",
    "\n",
    "    print(f\"\\nFinal cumulative multiplier for {asset_name}: {cumulative_multiplier}\")\n",
    "    \n",
    "    return df, cumulative_multiplier\n",
    "\n",
    "\n",
    "\n",
    "# Run the function to apply the splits and see the details printed out\n",
    "df, tesla_cumulative_multiplier = apply_splits_and_calculate_multiplier(df, 'Tesla', stock_splits['Tesla'])\n",
    "\n",
    "print(\"\\nFinal DataFrame with adjusted quantities:\")\n",
    "\n",
    "tesla_cumulative_multiplier"
   ]
  },
  {
   "cell_type": "code",
   "execution_count": 12,
   "id": "609fd7fe-750d-4c59-bcff-8eeaaf59bc9c",
   "metadata": {},
   "outputs": [
    {
     "data": {
      "text/plain": [
       "'Tesla'"
      ]
     },
     "execution_count": 12,
     "metadata": {},
     "output_type": "execute_result"
    }
   ],
   "source": [
    "df_Tesla=df['Asset Name']='Tesla'\n",
    "df_Tesla"
   ]
  },
  {
   "cell_type": "code",
   "execution_count": null,
   "id": "5b39c6b7-7084-4c8f-88c6-5da5500222fe",
   "metadata": {},
   "outputs": [],
   "source": []
  }
 ],
 "metadata": {
  "kernelspec": {
   "display_name": "Python 3 (ipykernel)",
   "language": "python",
   "name": "python3"
  },
  "language_info": {
   "codemirror_mode": {
    "name": "ipython",
    "version": 3
   },
   "file_extension": ".py",
   "mimetype": "text/x-python",
   "name": "python",
   "nbconvert_exporter": "python",
   "pygments_lexer": "ipython3",
   "version": "3.11.5"
  }
 },
 "nbformat": 4,
 "nbformat_minor": 5
}
